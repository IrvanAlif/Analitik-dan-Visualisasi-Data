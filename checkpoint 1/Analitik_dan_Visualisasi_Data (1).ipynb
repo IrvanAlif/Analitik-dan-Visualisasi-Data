{
  "nbformat": 4,
  "nbformat_minor": 0,
  "metadata": {
    "colab": {
      "provenance": [],
      "authorship_tag": "ABX9TyPLcqExPIt8stQSl9VoZUDi",
      "include_colab_link": true
    },
    "kernelspec": {
      "name": "python3",
      "display_name": "Python 3"
    },
    "language_info": {
      "name": "python"
    }
  },
  "cells": [
    {
      "cell_type": "markdown",
      "metadata": {
        "id": "view-in-github",
        "colab_type": "text"
      },
      "source": [
        "<a href=\"https://colab.research.google.com/github/IrvanAlif/Analitik-dan-Visualisasi-Data/blob/main/Analitik_dan_Visualisasi_Data.ipynb\" target=\"_parent\"><img src=\"https://colab.research.google.com/assets/colab-badge.svg\" alt=\"Open In Colab\"/></a>"
      ]
    },
    {
      "cell_type": "markdown",
      "source": [
        "## **Business Understanding**\n"
      ],
      "metadata": {
        "id": "5Pn_AYgz0oev"
      }
    },
    {
      "cell_type": "markdown",
      "source": [
        "# **Business objective**"
      ],
      "metadata": {
        "id": "L_3IE7Ax053S"
      }
    },
    {
      "cell_type": "markdown",
      "source": [
        "Tujuan utama proyek ini adalah untuk memahami perilaku pengguna mobile dalam penggunaan perangkat mobile guna mendukung peningkatan layanan digital dan meningkatkan pengalaman pengguna. Dengan menganalisis pola penggunaan aplikasi, waktu layar harian, serta kategori aplikasi yang paling sering digunakan,dengan itu perusahaan dapat:\n",
        "\n",
        "1. meningkatkan layanan/fitur: Menambahkan fitur sesuai dengan kebutuhan pelanggan\n",
        "\n",
        "2. Memprediksi penggunaan layanan/fitur: merekomendasika fitur sesui dengan kebiasaan pengguna\n",
        "\n",
        "3. Meningkatkan personalisasi konten: Memberikan rekommendasi yang serupa dengan yang biasa di nikmati pelanggan"
      ],
      "metadata": {
        "id": "nXJeP08G1UBX"
      }
    },
    {
      "cell_type": "markdown",
      "source": [
        "# **Assess Situation**"
      ],
      "metadata": {
        "id": "-6dBOGVaawo2"
      }
    },
    {
      "cell_type": "markdown",
      "source": [
        "Situasi bisnis yang mendasari analisis ini adalah semakin meningkatnya ketergantungan masyarakat terhadap perangkat mobile dalam aktivitas sehari-hari. Pengguna menggunakan berbagai macam aplikasi untuk melakukan komunikasi, mendapatkan hiburan, meningkatkan produktivitas, dan kebutuhan lainnya. Dalam persaingan yang semakin kompetitif, perusahaan harus memahami pola penggunaan mobile untuk menyesuaikan strategi bisnis dengan tren penggunaan aplikasi mobile, memahami pola perilaku pengguna untuk menciptakan fitur yang lebih baik, serta meningkatkan pengalaman pengguna untuk meningkatkan fitur-fitur yang sudah ada\n",
        "\n",
        "\n",
        "\n",
        "\n",
        "\n",
        "\n",
        "\n"
      ],
      "metadata": {
        "id": "b__JaCBMZ1sA"
      }
    },
    {
      "cell_type": "markdown",
      "source": [
        "# **Data Mining Goals**"
      ],
      "metadata": {
        "id": "1fIbVZarftqX"
      }
    },
    {
      "cell_type": "markdown",
      "source": [
        "Mengidentifikasi segmentasi pengguna berdasarkan pola penggunaan aplikasi, durasi screen time, serta karakteristik pengguna. Selain itu, analisis ini bertujuan untuk menemukan hubungan antara berbagai faktor, seperti usia dengan jenis aplikasi yang paling sering digunakan, serta memprediksi pengunaan aplikasi tertentu dalam jangka panjang. Proyek ini juga bertujuan untuk mengenali kelompok yang berpotensi mendapatkan manfaat dari layanan ini, serta menemukan pola anomali atau perilaku tidak biasa, misalnya lonjakan penggunaan aplikasi dalam periode tertentu karena tren yang sedang berlangsung. Dengan mencapai tujuan ini, perusahaan dapat meningkatkan efektivitas layanan digital"
      ],
      "metadata": {
        "id": "RApAKdEEiY5k"
      }
    },
    {
      "cell_type": "markdown",
      "source": [
        "# **project plan**"
      ],
      "metadata": {
        "id": "7Jg0X1caiuih"
      }
    },
    {
      "cell_type": "markdown",
      "source": [
        "Proyek ini akan dilakukan dalam beberapa tahap yang dimulai dengan pengumpulan data untuk memahami pola penggunaan aplikasi oleh pengguna. Setelah itu, data akan diproses dan dibersihkan untuk memastikan kualitasnya sebelum dianalisis lebih lanjut. Analisis data akan dilakukan dengan metode data mining untuk mengidentifikasi pola penggunaan, segmentasi pengguna, serta faktor-faktor yang memengaruhi pemilihan aplikasi. Hasil dari analisis ini akan digunakan untuk menyusun strategi yang dapat meningkatkan pengalaman pengguna. Tahap akhir proyek meliputi evaluasi hasil, penyusunan laporan, serta rekomendasi dalam betuk data yang dapat diterapkan oleh perusahaan dalam pengembangan layanan mereka."
      ],
      "metadata": {
        "id": "T8LdIHGyix99"
      }
    }
  ]
}